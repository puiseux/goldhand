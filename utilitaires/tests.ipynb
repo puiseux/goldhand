{
 "cells": [
  {
   "cell_type": "code",
   "outputs": [],
   "source": [
    "import pandas as pd\n",
    "filepath = \"https://www.cryptodatadownload.com/cdd/Binance_BTCUSDT_d.csv\"\n",
    "df = pd.read_csv(filepath, skiprows=1)  # we can use 'skiprows=1' parameter because first row contains our web address"
   ],
   "metadata": {
    "collapsed": false,
    "ExecuteTime": {
     "end_time": "2024-01-18T07:57:34.391792Z",
     "start_time": "2024-01-18T07:57:33.585050Z"
    }
   },
   "id": "8af0e18194bf9729",
   "execution_count": 4
  },
  {
   "cell_type": "code",
   "outputs": [
    {
     "data": {
      "text/plain": "               Unix        Date   Symbol      Open      High       Low  \\\n0     1705363200000  2024-01-16  BTCUSDT  42511.10  43578.01  42050.00   \n1     1705276800000  2024-01-15  BTCUSDT  41732.35  43400.43  41718.05   \n2     1705190400000  2024-01-14  BTCUSDT  42847.99  43079.00  41720.00   \n3     1705104000000  2024-01-13  BTCUSDT  42782.74  43257.00  42436.12   \n4     1705017600000  2024-01-12  BTCUSDT  46339.16  46515.53  41500.00   \n...             ...         ...      ...       ...       ...       ...   \n2339  1503273600000  2017-08-21  BTCUSDT   4069.13   4119.62   3911.79   \n2340  1503187200000  2017-08-20  BTCUSDT   4120.98   4211.08   4032.62   \n2341  1503100800000  2017-08-19  BTCUSDT   4108.37   4184.69   3850.00   \n2342  1503014400000  2017-08-18  BTCUSDT   4285.08   4371.52   3938.77   \n2343  1502928000000  2017-08-17  BTCUSDT   4261.48   4485.39   4200.74   \n\n         Close    Volume BTC   Volume USDT  tradecount  \n0     43137.95  45045.745890  1.931947e+09     1716580  \n1     42511.10  40269.893030  1.718983e+09     1657611  \n2     41732.35  28228.408940  1.202213e+09     1235727  \n3     42847.99  36118.474640  1.547371e+09     1434243  \n4     42782.73  86327.937070  3.827484e+09     2809192  \n...        ...           ...           ...         ...  \n2339   4016.00    691.743060  2.797232e+06        3972  \n2340   4086.29    467.083022  1.930364e+06        2321  \n2341   4139.98    381.309763  1.549484e+06        2153  \n2342   4108.37   1199.888264  5.086958e+06        5233  \n2343   4285.08    795.150377  3.454770e+06        3427  \n\n[2344 rows x 10 columns]",
      "text/html": "<div>\n<style scoped>\n    .dataframe tbody tr th:only-of-type {\n        vertical-align: middle;\n    }\n\n    .dataframe tbody tr th {\n        vertical-align: top;\n    }\n\n    .dataframe thead th {\n        text-align: right;\n    }\n</style>\n<table border=\"1\" class=\"dataframe\">\n  <thead>\n    <tr style=\"text-align: right;\">\n      <th></th>\n      <th>Unix</th>\n      <th>Date</th>\n      <th>Symbol</th>\n      <th>Open</th>\n      <th>High</th>\n      <th>Low</th>\n      <th>Close</th>\n      <th>Volume BTC</th>\n      <th>Volume USDT</th>\n      <th>tradecount</th>\n    </tr>\n  </thead>\n  <tbody>\n    <tr>\n      <th>0</th>\n      <td>1705363200000</td>\n      <td>2024-01-16</td>\n      <td>BTCUSDT</td>\n      <td>42511.10</td>\n      <td>43578.01</td>\n      <td>42050.00</td>\n      <td>43137.95</td>\n      <td>45045.745890</td>\n      <td>1.931947e+09</td>\n      <td>1716580</td>\n    </tr>\n    <tr>\n      <th>1</th>\n      <td>1705276800000</td>\n      <td>2024-01-15</td>\n      <td>BTCUSDT</td>\n      <td>41732.35</td>\n      <td>43400.43</td>\n      <td>41718.05</td>\n      <td>42511.10</td>\n      <td>40269.893030</td>\n      <td>1.718983e+09</td>\n      <td>1657611</td>\n    </tr>\n    <tr>\n      <th>2</th>\n      <td>1705190400000</td>\n      <td>2024-01-14</td>\n      <td>BTCUSDT</td>\n      <td>42847.99</td>\n      <td>43079.00</td>\n      <td>41720.00</td>\n      <td>41732.35</td>\n      <td>28228.408940</td>\n      <td>1.202213e+09</td>\n      <td>1235727</td>\n    </tr>\n    <tr>\n      <th>3</th>\n      <td>1705104000000</td>\n      <td>2024-01-13</td>\n      <td>BTCUSDT</td>\n      <td>42782.74</td>\n      <td>43257.00</td>\n      <td>42436.12</td>\n      <td>42847.99</td>\n      <td>36118.474640</td>\n      <td>1.547371e+09</td>\n      <td>1434243</td>\n    </tr>\n    <tr>\n      <th>4</th>\n      <td>1705017600000</td>\n      <td>2024-01-12</td>\n      <td>BTCUSDT</td>\n      <td>46339.16</td>\n      <td>46515.53</td>\n      <td>41500.00</td>\n      <td>42782.73</td>\n      <td>86327.937070</td>\n      <td>3.827484e+09</td>\n      <td>2809192</td>\n    </tr>\n    <tr>\n      <th>...</th>\n      <td>...</td>\n      <td>...</td>\n      <td>...</td>\n      <td>...</td>\n      <td>...</td>\n      <td>...</td>\n      <td>...</td>\n      <td>...</td>\n      <td>...</td>\n      <td>...</td>\n    </tr>\n    <tr>\n      <th>2339</th>\n      <td>1503273600000</td>\n      <td>2017-08-21</td>\n      <td>BTCUSDT</td>\n      <td>4069.13</td>\n      <td>4119.62</td>\n      <td>3911.79</td>\n      <td>4016.00</td>\n      <td>691.743060</td>\n      <td>2.797232e+06</td>\n      <td>3972</td>\n    </tr>\n    <tr>\n      <th>2340</th>\n      <td>1503187200000</td>\n      <td>2017-08-20</td>\n      <td>BTCUSDT</td>\n      <td>4120.98</td>\n      <td>4211.08</td>\n      <td>4032.62</td>\n      <td>4086.29</td>\n      <td>467.083022</td>\n      <td>1.930364e+06</td>\n      <td>2321</td>\n    </tr>\n    <tr>\n      <th>2341</th>\n      <td>1503100800000</td>\n      <td>2017-08-19</td>\n      <td>BTCUSDT</td>\n      <td>4108.37</td>\n      <td>4184.69</td>\n      <td>3850.00</td>\n      <td>4139.98</td>\n      <td>381.309763</td>\n      <td>1.549484e+06</td>\n      <td>2153</td>\n    </tr>\n    <tr>\n      <th>2342</th>\n      <td>1503014400000</td>\n      <td>2017-08-18</td>\n      <td>BTCUSDT</td>\n      <td>4285.08</td>\n      <td>4371.52</td>\n      <td>3938.77</td>\n      <td>4108.37</td>\n      <td>1199.888264</td>\n      <td>5.086958e+06</td>\n      <td>5233</td>\n    </tr>\n    <tr>\n      <th>2343</th>\n      <td>1502928000000</td>\n      <td>2017-08-17</td>\n      <td>BTCUSDT</td>\n      <td>4261.48</td>\n      <td>4485.39</td>\n      <td>4200.74</td>\n      <td>4285.08</td>\n      <td>795.150377</td>\n      <td>3.454770e+06</td>\n      <td>3427</td>\n    </tr>\n  </tbody>\n</table>\n<p>2344 rows × 10 columns</p>\n</div>"
     },
     "execution_count": 5,
     "metadata": {},
     "output_type": "execute_result"
    }
   ],
   "source": [
    "df\n"
   ],
   "metadata": {
    "collapsed": false,
    "ExecuteTime": {
     "end_time": "2024-01-18T07:57:51.492009Z",
     "start_time": "2024-01-18T07:57:51.168816Z"
    }
   },
   "id": "7ab9ebc7de4eb565",
   "execution_count": 5
  },
  {
   "cell_type": "code",
   "outputs": [
    {
     "data": {
      "text/plain": "               Unix          Open          High           Low         Close  \\\ncount  2.344000e+03   2344.000000   2344.000000   2344.000000   2344.000000   \nmean   1.604146e+12  21048.244620  21592.831472  20446.979356  21064.892521   \nstd    5.847542e+10  15971.464498  16386.330660  15502.708957  15974.263383   \nmin    1.502928e+12   3188.010000   3276.500000   2817.000000   3189.020000   \n25%    1.553537e+12   7949.727500   8185.352500   7727.632500   7960.977500   \n50%    1.604146e+12  15939.840000  16462.500000  15119.230000  15995.145000   \n75%    1.654754e+12  30638.702500  31599.700000  30036.115000  30689.485000   \nmax    1.705363e+12  67525.820000  69000.000000  66222.400000  67525.830000   \n\n          Volume BTC   Volume USDT    tradecount  \ncount    2344.000000  2.344000e+03  2.344000e+03  \nmean    73125.634416  1.631174e+09  1.440542e+06  \nstd     84378.577319  2.048987e+09  1.989692e+06  \nmin       228.108068  9.778657e+05  2.153000e+03  \n25%     29990.827507  2.825812e+08  2.990800e+05  \n50%     46198.954983  7.707330e+08  7.843465e+05  \n75%     77740.923765  2.291206e+09  1.568985e+06  \nmax    760705.362783  1.746531e+10  1.522359e+07  ",
      "text/html": "<div>\n<style scoped>\n    .dataframe tbody tr th:only-of-type {\n        vertical-align: middle;\n    }\n\n    .dataframe tbody tr th {\n        vertical-align: top;\n    }\n\n    .dataframe thead th {\n        text-align: right;\n    }\n</style>\n<table border=\"1\" class=\"dataframe\">\n  <thead>\n    <tr style=\"text-align: right;\">\n      <th></th>\n      <th>Unix</th>\n      <th>Open</th>\n      <th>High</th>\n      <th>Low</th>\n      <th>Close</th>\n      <th>Volume BTC</th>\n      <th>Volume USDT</th>\n      <th>tradecount</th>\n    </tr>\n  </thead>\n  <tbody>\n    <tr>\n      <th>count</th>\n      <td>2.344000e+03</td>\n      <td>2344.000000</td>\n      <td>2344.000000</td>\n      <td>2344.000000</td>\n      <td>2344.000000</td>\n      <td>2344.000000</td>\n      <td>2.344000e+03</td>\n      <td>2.344000e+03</td>\n    </tr>\n    <tr>\n      <th>mean</th>\n      <td>1.604146e+12</td>\n      <td>21048.244620</td>\n      <td>21592.831472</td>\n      <td>20446.979356</td>\n      <td>21064.892521</td>\n      <td>73125.634416</td>\n      <td>1.631174e+09</td>\n      <td>1.440542e+06</td>\n    </tr>\n    <tr>\n      <th>std</th>\n      <td>5.847542e+10</td>\n      <td>15971.464498</td>\n      <td>16386.330660</td>\n      <td>15502.708957</td>\n      <td>15974.263383</td>\n      <td>84378.577319</td>\n      <td>2.048987e+09</td>\n      <td>1.989692e+06</td>\n    </tr>\n    <tr>\n      <th>min</th>\n      <td>1.502928e+12</td>\n      <td>3188.010000</td>\n      <td>3276.500000</td>\n      <td>2817.000000</td>\n      <td>3189.020000</td>\n      <td>228.108068</td>\n      <td>9.778657e+05</td>\n      <td>2.153000e+03</td>\n    </tr>\n    <tr>\n      <th>25%</th>\n      <td>1.553537e+12</td>\n      <td>7949.727500</td>\n      <td>8185.352500</td>\n      <td>7727.632500</td>\n      <td>7960.977500</td>\n      <td>29990.827507</td>\n      <td>2.825812e+08</td>\n      <td>2.990800e+05</td>\n    </tr>\n    <tr>\n      <th>50%</th>\n      <td>1.604146e+12</td>\n      <td>15939.840000</td>\n      <td>16462.500000</td>\n      <td>15119.230000</td>\n      <td>15995.145000</td>\n      <td>46198.954983</td>\n      <td>7.707330e+08</td>\n      <td>7.843465e+05</td>\n    </tr>\n    <tr>\n      <th>75%</th>\n      <td>1.654754e+12</td>\n      <td>30638.702500</td>\n      <td>31599.700000</td>\n      <td>30036.115000</td>\n      <td>30689.485000</td>\n      <td>77740.923765</td>\n      <td>2.291206e+09</td>\n      <td>1.568985e+06</td>\n    </tr>\n    <tr>\n      <th>max</th>\n      <td>1.705363e+12</td>\n      <td>67525.820000</td>\n      <td>69000.000000</td>\n      <td>66222.400000</td>\n      <td>67525.830000</td>\n      <td>760705.362783</td>\n      <td>1.746531e+10</td>\n      <td>1.522359e+07</td>\n    </tr>\n  </tbody>\n</table>\n</div>"
     },
     "execution_count": 6,
     "metadata": {},
     "output_type": "execute_result"
    }
   ],
   "source": [
    "df.describe()"
   ],
   "metadata": {
    "collapsed": false,
    "ExecuteTime": {
     "end_time": "2024-01-18T08:01:40.381997Z",
     "start_time": "2024-01-18T08:01:40.352527Z"
    }
   },
   "id": "f6362d3f2c3a7e31",
   "execution_count": 6
  },
  {
   "cell_type": "code",
   "outputs": [
    {
     "name": "stdout",
     "output_type": "stream",
     "text": [
      "aaa\n",
      "        interactiveshell.py.run_cell_async(3266) >> interactiveshell.py.run_ast_nodes(3445) >> interactiveshell.py.run_code(3505) >> 482301702.py.<module>(2)\n",
      "bye\n",
      "Reprendre ici\n",
      " File \"/var/folders/rd/8n6gqnv94j55mtg7bf365p0w0000gn/T/ipykernel_13347/482301702.py\", line 3\n"
     ]
    },
    {
     "ename": "SystemExit",
     "evalue": "",
     "output_type": "error",
     "traceback": [
      "An exception has occurred, use %tb to see the full traceback.\n",
      "\u001B[0;31mSystemExit\u001B[0m\n"
     ]
    },
    {
     "name": "stderr",
     "output_type": "stream",
     "text": [
      "/Users/puiseux/opt/miniconda3/envs/python311/lib/python3.11/site-packages/IPython/core/interactiveshell.py:3513: UserWarning: To exit: use 'exit', 'quit', or Ctrl-D.\n",
      "  warn(\"To exit: use 'exit', 'quit', or Ctrl-D.\", stacklevel=1)\n"
     ]
    }
   ],
   "source": [
    "from debog import mexit, smallStack\n",
    "smallStack('aaa',3)\n",
    "try : mexit('bye')\n",
    "except Exception as msg : print(msg)\n"
   ],
   "metadata": {
    "collapsed": false,
    "ExecuteTime": {
     "end_time": "2024-01-18T08:23:10.410956Z",
     "start_time": "2024-01-18T08:23:08.384508Z"
    }
   },
   "id": "33d2e3a8dd4482bb",
   "execution_count": 1
  },
  {
   "cell_type": "code",
   "outputs": [
    {
     "name": "stdout",
     "output_type": "stream",
     "text": [
      "hello\n",
      "-----\n",
      "\u001B[4mhello\u001B[0m\n"
     ]
    }
   ],
   "source": [
    "from src import underline, souligne,whoami\n",
    "# from debog import souligne\n",
    "print(souligne('hello'))\n",
    "print(underline('hello'))"
   ],
   "metadata": {
    "collapsed": false,
    "ExecuteTime": {
     "end_time": "2024-01-21T06:54:24.294083Z",
     "start_time": "2024-01-21T06:54:24.284003Z"
    }
   },
   "id": "a7ecae64d7e17f51",
   "execution_count": 4
  },
  {
   "cell_type": "code",
   "outputs": [
    {
     "name": "stdout",
     "output_type": "stream",
     "text": [
      "<module>::\n"
     ]
    }
   ],
   "source": [
    "print(whoami())"
   ],
   "metadata": {
    "collapsed": false,
    "ExecuteTime": {
     "end_time": "2024-01-21T06:54:32.340415Z",
     "start_time": "2024-01-21T06:54:32.332029Z"
    }
   },
   "id": "7109dc184df2f17d",
   "execution_count": 5
  },
  {
   "cell_type": "code",
   "outputs": [],
   "source": [],
   "metadata": {
    "collapsed": false
   },
   "id": "18f7984790d1c183"
  }
 ],
 "metadata": {
  "kernelspec": {
   "display_name": "Python 3",
   "language": "python",
   "name": "python3"
  },
  "language_info": {
   "codemirror_mode": {
    "name": "ipython",
    "version": 2
   },
   "file_extension": ".py",
   "mimetype": "text/x-python",
   "name": "python",
   "nbconvert_exporter": "python",
   "pygments_lexer": "ipython2",
   "version": "2.7.6"
  }
 },
 "nbformat": 4,
 "nbformat_minor": 5
}
