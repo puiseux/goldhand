{
 "cells": [
  {
   "cell_type": "markdown",
   "source": [
    "# recopie presque exacte de generate_picture.ipynb\n",
    "# ya plus qu'a écrire la stratégie ichimoku, et la\n",
    "# tester!!"
   ],
   "metadata": {
    "collapsed": false
   },
   "id": "60bb305dd6a8755"
  },
  {
   "cell_type": "code",
   "outputs": [
    {
     "name": "stdout",
     "output_type": "stream",
     "text": [
      "   A  B\n",
      "0  1  a\n",
      "1  2  b\n",
      "Pandas TA - Technical Analysis Indicators - v0.3.14b0\n",
      "Total Indicators & Utilities: 205\n",
      "Abbreviations:\n",
      "    aberration, above, above_value, accbands, ad, adosc, adx, alma, amat, ao, aobv, apo, aroon, atr, bbands, below, below_value, bias, bop, brar, cci, cdl_pattern, cdl_z, cfo, cg, chop, cksp, cmf, cmo, coppock, cross, cross_value, cti, decay, decreasing, dema, dm, donchian, dpo, ebsw, efi, ema, entropy, eom, er, eri, fisher, fwma, ha, hilo, hl2, hlc3, hma, hwc, hwma, ichimoku, increasing, inertia, jma, kama, kc, kdj, kst, kurtosis, kvo, linreg, log_return, long_run, macd, mad, massi, mcgd, median, mfi, midpoint, midprice, mom, natr, nvi, obv, ohlc4, pdist, percent_return, pgo, ppo, psar, psl, pvi, pvo, pvol, pvr, pvt, pwma, qqe, qstick, quantile, rma, roc, rsi, rsx, rvgi, rvi, short_run, sinwma, skew, slope, sma, smi, squeeze, squeeze_pro, ssf, stc, stdev, stoch, stochrsi, supertrend, swma, t3, td_seq, tema, thermo, tos_stdevall, trima, trix, true_range, tsi, tsignals, ttm_trend, ui, uo, variance, vhf, vidya, vortex, vp, vwap, vwma, wcp, willr, wma, xsignals, zlma, zscore\n",
      "\n",
      "Candle Patterns:\n",
      "    2crows, 3blackcrows, 3inside, 3linestrike, 3outside, 3starsinsouth, 3whitesoldiers, abandonedbaby, advanceblock, belthold, breakaway, closingmarubozu, concealbabyswall, counterattack, darkcloudcover, doji, dojistar, dragonflydoji, engulfing, eveningdojistar, eveningstar, gapsidesidewhite, gravestonedoji, hammer, hangingman, harami, haramicross, highwave, hikkake, hikkakemod, homingpigeon, identical3crows, inneck, inside, invertedhammer, kicking, kickingbylength, ladderbottom, longleggeddoji, longline, marubozu, matchinglow, mathold, morningdojistar, morningstar, onneck, piercing, rickshawman, risefall3methods, separatinglines, shootingstar, shortline, spinningtop, stalledpattern, sticksandwich, takuri, tasukigap, thrusting, tristar, unique3river, upsidegap2crows, xsidegap3methods\n",
      "Help on function ichimoku in module pandas_ta.overlap.ichimoku:\n",
      "\n",
      "ichimoku(high, low, close, tenkan=None, kijun=None, senkou=None, include_chikou=True, offset=None, **kwargs)\n",
      "    Ichimoku Kinkō Hyō (ichimoku)\n",
      "    \n",
      "    Developed Pre WWII as a forecasting model for financial markets.\n",
      "    \n",
      "    Sources:\n",
      "        https://www.tradingtechnologies.com/help/x-study/technical-indicator-definitions/ichimoku-ich/\n",
      "    \n",
      "    Calculation:\n",
      "        Default Inputs:\n",
      "            tenkan=9, kijun=26, senkou=52\n",
      "        MIDPRICE = Midprice\n",
      "        TENKAN_SEN = MIDPRICE(high, low, close, length=tenkan)\n",
      "        KIJUN_SEN = MIDPRICE(high, low, close, length=kijun)\n",
      "        CHIKOU_SPAN = close.shift(-kijun)\n",
      "    \n",
      "        SPAN_A = 0.5 * (TENKAN_SEN + KIJUN_SEN)\n",
      "        SPAN_A = SPAN_A.shift(kijun)\n",
      "    \n",
      "        SPAN_B = MIDPRICE(high, low, close, length=senkou)\n",
      "        SPAN_B = SPAN_B.shift(kijun)\n",
      "    \n",
      "    Args:\n",
      "        high (pd.Series): Series of 'high's\n",
      "        low (pd.Series): Series of 'low's\n",
      "        close (pd.Series): Series of 'close's\n",
      "        tenkan (int): Tenkan period. Default: 9\n",
      "        kijun (int): Kijun period. Default: 26\n",
      "        senkou (int): Senkou period. Default: 52\n",
      "        include_chikou (bool): Whether to include chikou component. Default: True\n",
      "        offset (int): How many periods to offset the result. Default: 0\n",
      "    \n",
      "    Kwargs:\n",
      "        fillna (value, optional): pd.DataFrame.fillna(value)\n",
      "        fill_method (value, optional): Type of fill method\n",
      "    \n",
      "    Returns:\n",
      "        pd.DataFrame: Two DataFrames.\n",
      "            For the visible period: spanA, spanB, tenkan_sen, kijun_sen,\n",
      "                and chikou_span columns\n",
      "            For the forward looking period: spanA and spanB columns\n"
     ]
    }
   ],
   "source": [
    "import pandas as pd\n",
    "import pandas_ta as ta\n",
    "df = pd.DataFrame(data=dict(A=[1,2],B=['a','b']))\n",
    "print(df)\n",
    "e = pd.DataFrame()\n",
    "e.ta.indicators()\n",
    "help(ta.ichimoku)\n",
    "# print(ta.ALL_PATTERNS)"
   ],
   "metadata": {
    "collapsed": false,
    "ExecuteTime": {
     "end_time": "2024-02-11T06:34:43.305586Z",
     "start_time": "2024-02-11T06:34:43.295925Z"
    }
   },
   "id": "bc1b053c35ff2017",
   "execution_count": 5
  },
  {
   "cell_type": "code",
   "outputs": [
    {
     "name": "stdout",
     "output_type": "stream",
     "text": [
      "*********************************************\n"
     ]
    }
   ],
   "source": [
    "from goldhand import (Tw, GoldHand, Backtest, \n",
    "                      rsi_strategy, \n",
    "                      goldhand_line_strategy,\n",
    "                      ichimoku_strategy,\n",
    "                      show_indicator_goldhand_line_strategy)\n",
    "\n",
    "tw = Tw()  # tradingView data\n",
    "# Get a detailed chart of a crypto\n",
    "ticker = \"BTC-USD\"\n",
    "t = GoldHand(ticker, range='1y', interval='1d')\n",
    "# print(t.df)"
   ],
   "metadata": {
    "collapsed": true,
    "ExecuteTime": {
     "end_time": "2024-02-11T06:36:11.661622Z",
     "start_time": "2024-02-11T06:36:05.882997Z"
    }
   },
   "id": "initial_id",
   "execution_count": 8
  },
  {
   "cell_type": "code",
   "outputs": [],
   "source": [
    "t.plotly_last_year(tw.get_plotly_title(ticker)).show()"
   ],
   "metadata": {
    "collapsed": false
   },
   "id": "5323a9df80678960",
   "execution_count": null
  },
  {
   "cell_type": "code",
   "outputs": [],
   "source": [
    "t.plot_goldhand_line(tw.get_plotly_title(ticker)).show()"
   ],
   "metadata": {
    "collapsed": false
   },
   "id": "a2ce04786f889bc5",
   "execution_count": null
  },
  {
   "cell_type": "code",
   "outputs": [],
   "source": [
    "t.plot_ichimoku(tw.get_plotly_title(ticker)).show()"
   ],
   "metadata": {
    "collapsed": false
   },
   "id": "583870178dd5cfcd",
   "execution_count": null
  },
  {
   "cell_type": "code",
   "outputs": [],
   "source": [
    "data = t.df\n",
    "backtest = Backtest(data, goldhand_line_strategy, \n",
    "                    plot_title=tw.get_plotly_title(ticker),\n",
    "                    buy_at = 'gold', sell_at = 'blue',)\n",
    "backtest.summarize_strategy()"
   ],
   "metadata": {
    "collapsed": false
   },
   "id": "e5cb0305bca2daf6",
   "execution_count": null
  },
  {
   "cell_type": "code",
   "outputs": [],
   "source": [
    "#from goldhand import show_indicator_goldhand_line_strategy\n",
    "show_indicator_goldhand_line_strategy(ticker = ticker,  \n",
    "                        plot_title=tw.get_plotly_title(ticker), \n",
    "                        buy_at='gold', sell_at='blue',  \n",
    "                        add_strategy_summary=True).show()\n",
    "#ici, on appelle la fonction avec ndays=0 (valeur par defaut)\n",
    "# donc on prend toutes les data disponibles"
   ],
   "metadata": {
    "collapsed": false
   },
   "id": "d307f523f55ba13f",
   "execution_count": null
  },
  {
   "cell_type": "code",
   "outputs": [],
   "source": [
    "data = t.df\n",
    "\n",
    "backtest = Backtest(data, rsi_strategy, \n",
    "                    plot_title=tw.get_plotly_title(ticker),\n",
    "                    buy_threshold = 30, sell_threshold = 70,)\n",
    "backtest.summarize_strategy()\n"
   ],
   "metadata": {
    "collapsed": false
   },
   "id": "1a561a94e8d30d58",
   "execution_count": null
  },
  {
   "cell_type": "code",
   "outputs": [],
   "source": [
    "\n",
    "from goldhand import show_indicator_rsi_strategy\n",
    "\n",
    "show_indicator_rsi_strategy(ticker = ticker,  \n",
    "                        plot_title=tw.get_plotly_title(ticker), \n",
    "                        #buy_at='gold', sell_at='blue',  \n",
    "                        add_strategy_summary=True).show()"
   ],
   "metadata": {
    "collapsed": false
   },
   "id": "c58bb5127c912c9d",
   "execution_count": null
  }
 ],
 "metadata": {
  "kernelspec": {
   "display_name": "Python 3",
   "language": "python",
   "name": "python3"
  },
  "language_info": {
   "codemirror_mode": {
    "name": "ipython",
    "version": 2
   },
   "file_extension": ".py",
   "mimetype": "text/x-python",
   "name": "python",
   "nbconvert_exporter": "python",
   "pygments_lexer": "ipython2",
   "version": "2.7.6"
  }
 },
 "nbformat": 4,
 "nbformat_minor": 5
}
